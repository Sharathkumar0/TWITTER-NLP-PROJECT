{
 "cells": [
  {
   "cell_type": "code",
   "execution_count": 34,
   "metadata": {
    "id": "9CoNEyqj-Nwm"
   },
   "outputs": [],
   "source": [
    "# Importing libraries\n",
    "\n",
    "import warnings\n",
    "warnings.simplefilter('ignore')\n",
    "\n",
    "import pandas as pd\n",
    "import numpy as np\n",
    "\n",
    "import tweepy\n",
    "import openpyxl\n",
    "from tweepy import OAuthHandler"
   ]
  },
  {
   "cell_type": "code",
   "execution_count": 35,
   "metadata": {
    "id": "rNML-ihN_bKt"
   },
   "outputs": [],
   "source": [
    "# keys to authenicate\n",
    "\n",
    "consumer_key = \"R5uWfAsZFoICTY9afc0YijlzJ\"\n",
    "consumer_secret = \"IAjb06eRi9p1YwBanT9m0jm2GGc2dGb3YaibB4YeFYmyik3aOC\"\n",
    "access_token = \"1289876569289187329-tzily7yIjZtTUnYA1Szup4a7CU25eC\"\n",
    "access_token_secret = \"twHNz3uxUXf0AfJKO5duODLqKwmhwYD6vqigxq0TjUDd4\""
   ]
  },
  {
   "cell_type": "code",
   "execution_count": 36,
   "metadata": {
    "id": "dTmwlfFh_bMl"
   },
   "outputs": [],
   "source": [
    "# Call API\n",
    "\n",
    "auth = tweepy.OAuthHandler(consumer_key,consumer_secret)\n",
    "auth.set_access_token(access_token,access_token_secret)\n",
    "api = tweepy.API(auth)"
   ]
  },
  {
   "cell_type": "code",
   "execution_count": 37,
   "metadata": {
    "id": "s0rEPLyCFRcS"
   },
   "outputs": [],
   "source": [
    "# Creating dataframe\n",
    "\n",
    "df = pd.DataFrame(columns=['Tweets'])"
   ]
  },
  {
   "cell_type": "code",
   "execution_count": 41,
   "metadata": {
    "colab": {
     "base_uri": "https://localhost:8080/"
    },
    "id": "NtBcoD6c_bQF",
    "outputId": "0024509c-4554-46a2-db08-1a2605c7cb19"
   },
   "outputs": [
    {
     "name": "stdout",
     "output_type": "stream",
     "text": [
      "999\r"
     ]
    }
   ],
   "source": [
    "# Fetch data\n",
    "\n",
    "data = ['T20 world cup 2021']\n",
    "i = 0\n",
    "for tweet in tweepy.Cursor(api.search_tweets,q=data,count=100,lang='en').items():\n",
    "  print(i,end='\\r')\n",
    "  df.loc[i,'Tweets'] = tweet.text\n",
    "  i = i+1\n",
    "  if i == 1000:\n",
    "    break\n",
    "  else:\n",
    "    pass"
   ]
  },
  {
   "cell_type": "code",
   "execution_count": 42,
   "metadata": {
    "id": "GDdxJawYFbUg"
   },
   "outputs": [],
   "source": [
    "import re\n",
    "def clean_tweet(tweet):\n",
    "  return ' '.join(re.sub('[^a-zA-Z]',' ',tweet).split())"
   ]
  },
  {
   "cell_type": "code",
   "execution_count": 43,
   "metadata": {
    "id": "Au_7B8GYWD-T"
   },
   "outputs": [],
   "source": [
    "df['clean_tweets'] = df['Tweets'].apply(lambda x:clean_tweet(x))"
   ]
  },
  {
   "cell_type": "code",
   "execution_count": 44,
   "metadata": {
    "id": "3HW5VvUsWnDR"
   },
   "outputs": [],
   "source": [
    "from textblob import TextBlob\n",
    "def anaylze(tweet):\n",
    "  analysis = TextBlob(tweet)\n",
    "  if analysis.sentiment.polarity > 0:\n",
    "    return 'Positive'\n",
    "  elif analysis.sentiment.polarity == 0:\n",
    "    return 'Neutral'\n",
    "  else:\n",
    "    return 'Negative'"
   ]
  },
  {
   "cell_type": "code",
   "execution_count": 45,
   "metadata": {
    "id": "iXsO0n5MW-m8"
   },
   "outputs": [],
   "source": [
    "df['senitment'] = df['clean_tweets'].apply(lambda x:anaylze(x))"
   ]
  },
  {
   "cell_type": "code",
   "execution_count": 50,
   "metadata": {
    "colab": {
     "base_uri": "https://localhost:8080/",
     "height": 270
    },
    "id": "oPOnIpEFXqCK",
    "outputId": "0176b749-b549-4226-dc0b-04a9b44eb6a0"
   },
   "outputs": [
    {
     "data": {
      "text/html": [
       "<div>\n",
       "<style scoped>\n",
       "    .dataframe tbody tr th:only-of-type {\n",
       "        vertical-align: middle;\n",
       "    }\n",
       "\n",
       "    .dataframe tbody tr th {\n",
       "        vertical-align: top;\n",
       "    }\n",
       "\n",
       "    .dataframe thead th {\n",
       "        text-align: right;\n",
       "    }\n",
       "</style>\n",
       "<table border=\"1\" class=\"dataframe\">\n",
       "  <thead>\n",
       "    <tr style=\"text-align: right;\">\n",
       "      <th></th>\n",
       "      <th>Tweets</th>\n",
       "      <th>clean_tweets</th>\n",
       "      <th>senitment</th>\n",
       "    </tr>\n",
       "  </thead>\n",
       "  <tbody>\n",
       "    <tr>\n",
       "      <th>0</th>\n",
       "      <td>RT @WisdenIndia: Virat Kohli in T20 World Cups...</td>\n",
       "      <td>RT WisdenIndia Virat Kohli in T World Cups inn...</td>\n",
       "      <td>Neutral</td>\n",
       "    </tr>\n",
       "    <tr>\n",
       "      <th>1</th>\n",
       "      <td>RT @WisdenIndia: Virat Kohli in T20 World Cups...</td>\n",
       "      <td>RT WisdenIndia Virat Kohli in T World Cups inn...</td>\n",
       "      <td>Neutral</td>\n",
       "    </tr>\n",
       "    <tr>\n",
       "      <th>2</th>\n",
       "      <td>RT @WisdenIndia: Virat Kohli in T20 World Cups...</td>\n",
       "      <td>RT WisdenIndia Virat Kohli in T World Cups inn...</td>\n",
       "      <td>Neutral</td>\n",
       "    </tr>\n",
       "    <tr>\n",
       "      <th>3</th>\n",
       "      <td>T20 World Cup 2021: Mentors Can’t Do Much, It’...</td>\n",
       "      <td>T World Cup Mentors Can t Do Much It s Players...</td>\n",
       "      <td>Positive</td>\n",
       "    </tr>\n",
       "    <tr>\n",
       "      <th>4</th>\n",
       "      <td>RT @WisdenIndia: Virat Kohli in T20 World Cups...</td>\n",
       "      <td>RT WisdenIndia Virat Kohli in T World Cups inn...</td>\n",
       "      <td>Neutral</td>\n",
       "    </tr>\n",
       "    <tr>\n",
       "      <th>5</th>\n",
       "      <td>RT @FOXRUGBY: ‘Blood everywhere’: Wallabies gr...</td>\n",
       "      <td>RT FOXRUGBY Blood everywhere Wallabies great T...</td>\n",
       "      <td>Positive</td>\n",
       "    </tr>\n",
       "    <tr>\n",
       "      <th>6</th>\n",
       "      <td>RT @WisdenIndia: Virat Kohli in T20 World Cups...</td>\n",
       "      <td>RT WisdenIndia Virat Kohli in T World Cups inn...</td>\n",
       "      <td>Neutral</td>\n",
       "    </tr>\n",
       "    <tr>\n",
       "      <th>7</th>\n",
       "      <td>RT @CricCrazyJohns: India will face Scotland i...</td>\n",
       "      <td>RT CricCrazyJohns India will face Scotland in ...</td>\n",
       "      <td>Neutral</td>\n",
       "    </tr>\n",
       "    <tr>\n",
       "      <th>8</th>\n",
       "      <td>RT @WisdenIndia: 2008 U19 World Cup &amp;lt;-&amp;gt; ...</td>\n",
       "      <td>RT WisdenIndia U World Cup lt gt T World Cup T...</td>\n",
       "      <td>Neutral</td>\n",
       "    </tr>\n",
       "    <tr>\n",
       "      <th>9</th>\n",
       "      <td>RT @WisdenIndia: Virat Kohli in T20 World Cups...</td>\n",
       "      <td>RT WisdenIndia Virat Kohli in T World Cups inn...</td>\n",
       "      <td>Neutral</td>\n",
       "    </tr>\n",
       "  </tbody>\n",
       "</table>\n",
       "</div>"
      ],
      "text/plain": [
       "                                              Tweets  \\\n",
       "0  RT @WisdenIndia: Virat Kohli in T20 World Cups...   \n",
       "1  RT @WisdenIndia: Virat Kohli in T20 World Cups...   \n",
       "2  RT @WisdenIndia: Virat Kohli in T20 World Cups...   \n",
       "3  T20 World Cup 2021: Mentors Can’t Do Much, It’...   \n",
       "4  RT @WisdenIndia: Virat Kohli in T20 World Cups...   \n",
       "5  RT @FOXRUGBY: ‘Blood everywhere’: Wallabies gr...   \n",
       "6  RT @WisdenIndia: Virat Kohli in T20 World Cups...   \n",
       "7  RT @CricCrazyJohns: India will face Scotland i...   \n",
       "8  RT @WisdenIndia: 2008 U19 World Cup &lt;-&gt; ...   \n",
       "9  RT @WisdenIndia: Virat Kohli in T20 World Cups...   \n",
       "\n",
       "                                        clean_tweets senitment  \n",
       "0  RT WisdenIndia Virat Kohli in T World Cups inn...   Neutral  \n",
       "1  RT WisdenIndia Virat Kohli in T World Cups inn...   Neutral  \n",
       "2  RT WisdenIndia Virat Kohli in T World Cups inn...   Neutral  \n",
       "3  T World Cup Mentors Can t Do Much It s Players...  Positive  \n",
       "4  RT WisdenIndia Virat Kohli in T World Cups inn...   Neutral  \n",
       "5  RT FOXRUGBY Blood everywhere Wallabies great T...  Positive  \n",
       "6  RT WisdenIndia Virat Kohli in T World Cups inn...   Neutral  \n",
       "7  RT CricCrazyJohns India will face Scotland in ...   Neutral  \n",
       "8  RT WisdenIndia U World Cup lt gt T World Cup T...   Neutral  \n",
       "9  RT WisdenIndia Virat Kohli in T World Cups inn...   Neutral  "
      ]
     },
     "execution_count": 50,
     "metadata": {},
     "output_type": "execute_result"
    }
   ],
   "source": [
    "df.head(10)"
   ]
  },
  {
   "cell_type": "code",
   "execution_count": 47,
   "metadata": {
    "colab": {
     "base_uri": "https://localhost:8080/"
    },
    "id": "wVh4I2VDYgBh",
    "outputId": "c89ff966-5759-41d9-ab31-bfe37cd4bea1"
   },
   "outputs": [
    {
     "data": {
      "text/plain": [
       "(308, 3)"
      ]
     },
     "execution_count": 47,
     "metadata": {},
     "output_type": "execute_result"
    }
   ],
   "source": [
    "df[df['senitment']=='Positive'].shape"
   ]
  },
  {
   "cell_type": "code",
   "execution_count": 48,
   "metadata": {
    "colab": {
     "base_uri": "https://localhost:8080/"
    },
    "id": "RWA6OO__Ys-y",
    "outputId": "71b7fc0c-6a88-46c8-a441-c2f9ad7a5202"
   },
   "outputs": [
    {
     "data": {
      "text/plain": [
       "(575, 3)"
      ]
     },
     "execution_count": 48,
     "metadata": {},
     "output_type": "execute_result"
    }
   ],
   "source": [
    "df[df['senitment']=='Neutral'].shape"
   ]
  },
  {
   "cell_type": "code",
   "execution_count": 49,
   "metadata": {
    "colab": {
     "base_uri": "https://localhost:8080/"
    },
    "id": "yBiQ604tYwiy",
    "outputId": "23ebf52a-373d-4809-9ad3-bd68f81f821e"
   },
   "outputs": [
    {
     "data": {
      "text/plain": [
       "(117, 3)"
      ]
     },
     "execution_count": 49,
     "metadata": {},
     "output_type": "execute_result"
    }
   ],
   "source": [
    "df[df['senitment']=='Negative'].shape"
   ]
  },
  {
   "cell_type": "code",
   "execution_count": 33,
   "metadata": {},
   "outputs": [
    {
     "ename": "NameError",
     "evalue": "name 'df' is not defined",
     "output_type": "error",
     "traceback": [
      "\u001b[1;31m---------------------------------------------------------------------------\u001b[0m",
      "\u001b[1;31mNameError\u001b[0m                                 Traceback (most recent call last)",
      "\u001b[1;32m<ipython-input-33-ed1ba1d645b7>\u001b[0m in \u001b[0;36m<module>\u001b[1;34m\u001b[0m\n\u001b[1;32m----> 1\u001b[1;33m \u001b[0mdf\u001b[0m\u001b[1;33m[\u001b[0m\u001b[0mdf\u001b[0m\u001b[1;33m[\u001b[0m\u001b[1;34m'senitment'\u001b[0m\u001b[1;33m]\u001b[0m\u001b[1;33m==\u001b[0m\u001b[1;34m'Positive'\u001b[0m\u001b[1;33m]\u001b[0m\u001b[1;33m.\u001b[0m\u001b[0mshape\u001b[0m\u001b[1;33m\u001b[0m\u001b[1;33m\u001b[0m\u001b[0m\n\u001b[0m",
      "\u001b[1;31mNameError\u001b[0m: name 'df' is not defined"
     ]
    }
   ],
   "source": [
    "df[df['senitment']=='Positive'].shape"
   ]
  }
 ],
 "metadata": {
  "colab": {
   "name": "Twitter.ipynb",
   "provenance": []
  },
  "kernelspec": {
   "display_name": "Python 3",
   "language": "python",
   "name": "python3"
  },
  "language_info": {
   "codemirror_mode": {
    "name": "ipython",
    "version": 3
   },
   "file_extension": ".py",
   "mimetype": "text/x-python",
   "name": "python",
   "nbconvert_exporter": "python",
   "pygments_lexer": "ipython3",
   "version": "3.8.8"
  }
 },
 "nbformat": 4,
 "nbformat_minor": 1
}
